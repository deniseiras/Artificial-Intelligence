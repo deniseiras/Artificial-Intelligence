{
  "cells": [
    {
      "cell_type": "markdown",
      "metadata": {
        "id": "view-in-github",
        "colab_type": "text"
      },
      "source": [
        "<a href=\"https://colab.research.google.com/github/deniseiras/Artificial-Intelligence/blob/main/AI_for_Science_Bootcamp.ipynb\" target=\"_parent\"><img src=\"https://colab.research.google.com/assets/colab-badge.svg\" alt=\"Open In Colab\"/></a>"
      ]
    },
    {
      "cell_type": "markdown",
      "metadata": {
        "id": "R0Tnf1TIsm6l"
      },
      "source": [
        "# Welcome to AI for Science Bootcamp\n",
        "\n",
        "The objective of this bootcamp is to give an introduction to application of Artificial Intelligence (AI) algorithms in Science ( High Performance Computing(HPC) Simulations ). This bootcamp will introduce participants to fundamentals of AI and how those can be applied to different HPC simulation domains. \n",
        "\n",
        "The following contents will be covered during the Bootcamp :\n",
        "\n",
        "- CNN Primer and Keras 101\n",
        "- Tropical Cyclone Intensity Estimation using Deep Convolution Neural Networks.\n"
      ]
    },
    {
      "cell_type": "markdown",
      "metadata": {
        "id": "UrwGjN8Tsm6p"
      },
      "source": [
        "## [CNN Primer and Keras 101](https://colab.research.google.com/drive/11_bu373UPm_nIBTmF-m410fat-EHj7uJ?usp=sharing)\n",
        "\n",
        "In this notebook, participants will be introduced to Convolution Neural Network and how to implement one using Keras API. For an absolute beginner to CNN and Keras this notebook would serve as a good starting point.\n",
        "\n",
        "**By the end of this notebook you will:**\n",
        "\n",
        "- Understand the Machine Learning pipeline\n",
        "- Understand how a Convolution Neural Network works\n",
        "- Write your own Deep Learning classifier and train it.\n",
        "\n",
        "For in depth understanding of Deep Learning Concepts, visit [NVIDIA Deep Learning Institute](https://www.nvidia.com/en-us/deep-learning-ai/education/)"
      ]
    },
    {
      "cell_type": "markdown",
      "metadata": {
        "id": "nGOODINasm6q"
      },
      "source": [
        "## [Tropical Cyclone Intensity Estimation using Deep Convolutional Neural Networks](https://colab.research.google.com/drive/1yCIImLjv4iP4Hkjh9eTVm9vdH-lTHnRW?usp=sharing)\n",
        "\n",
        "In this notebook, participants will be introduced to how Convolutional Neural Networks (CNN) can be applied in the field of Climate analysis.\n",
        "\n",
        "**Contents of this Notebook:**\n",
        "\n",
        "[Part 1](https://colab.research.google.com/drive/1yCIImLjv4iP4Hkjh9eTVm9vdH-lTHnRW?usp=sharing):\n",
        "  - Understanding the problem statement\n",
        "  - Building a Deep Learning pipeline\n",
        "  - Understand input data\n",
        "  - Annotating the data\n",
        "  - Build the model\n",
        "\n",
        "[Part 2](https://colab.research.google.com/drive/1PX5iaq2I5gRNiwORqCcXEX0Mqwlcm75U?usp=sharing):\n",
        "  - Understanding different accuracy and what they mean\n",
        "  - Improving the model\n",
        "\n",
        "[Challenge Notebook](https://colab.research.google.com/drive/1UNU-ZFbTGPrlANc0Yu0VK1JKn9RRuwyL?usp=sharing):\n",
        "  - Improving the existing model.\n",
        "\n",
        "**By the End of the Notebook you will:** \n",
        "\n",
        "- Understand the process of applying Deep Learning to solve a problem in the field of Climate Analysis \n",
        "- Understand various challenges with data pre-processing\n",
        "- How hyper-parameters play an essential role in improving the accuracy of the model."
      ]
    }
  ],
  "metadata": {
    "kernelspec": {
      "display_name": "Python 3",
      "language": "python",
      "name": "python3"
    },
    "language_info": {
      "codemirror_mode": {
        "name": "ipython",
        "version": 3
      },
      "file_extension": ".py",
      "mimetype": "text/x-python",
      "name": "python",
      "nbconvert_exporter": "python",
      "pygments_lexer": "ipython3",
      "version": "3.6.2"
    },
    "colab": {
      "private_outputs": true,
      "provenance": [],
      "include_colab_link": true
    },
    "gpuClass": "standard"
  },
  "nbformat": 4,
  "nbformat_minor": 0
}